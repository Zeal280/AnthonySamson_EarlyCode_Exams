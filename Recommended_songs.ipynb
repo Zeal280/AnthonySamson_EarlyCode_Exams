{
 "cells": [
  {
   "cell_type": "code",
   "execution_count": 2,
   "metadata": {},
   "outputs": [
    {
     "name": "stdout",
     "output_type": "stream",
     "text": [
      "   song_id    title  similarity\n",
      "1        2     hide    0.999993\n",
      "3        4    dance    0.999989\n",
      "4        5  imagine    0.999938\n",
      "2        3     play    0.999872\n"
     ]
    }
   ],
   "source": [
    "import pandas as pd\n",
    "from sklearn.metrics.pairwise import cosine_similarity\n",
    "available_songs = pd.DataFrame({\n",
    "    'song_id': [1, 2, 3, 4, 5, 6, 7, 8, 9],\n",
    "    'title': ['love', 'hide', 'play', 'dance', 'imagine', 'euphoria', 'elate', 'elope', 'forever'],\n",
    "    'genre':['pop', 'rnb', 'rock', 'afrobeat','emo', 'rap', 'hiphop', 'jazz', 'blues'],\n",
    "    'popularity':[70, 50, 90, 67, 80, 55, 90, 45, 60],\n",
    "    'beat':[0.7, 0.45, 0.99, 0.33, 0.86, 0.74, 0.66, 0.53, 0.21],\n",
    "    'year':[2024, 2021, 2022, 2024, 2019, 2023, 1999, 2006, 2015]\n",
    "})\n",
    "user_history = {\n",
    "    'user_id': 1,\n",
    "    'history': [1, 6, 9, 8]\n",
    "}\n",
    "\n",
    "def recommend_songs(user_history, available_songs, num_recommendations = 4):\n",
    "    history = available_songs[available_songs['song_id'].isin(user_history['history'])]\n",
    "    if history.empty:\n",
    "        return[]\n",
    "    avg_qualities = history[['popularity', 'beat', 'year']].mean().values.reshape(1, -1)\n",
    "    song_qualities = available_songs[['popularity', 'beat', 'year']]\n",
    "    similarities = cosine_similarity(avg_qualities, song_qualities)\n",
    "    available_songs['similarity'] = similarities.flatten()\n",
    "    recommended_songs = available_songs[~available_songs['song_id'].isin(user_history['history'])]\n",
    "    recommended_songs = recommended_songs.sort_values(by='similarity', ascending = False)\n",
    "    return recommended_songs[['song_id', 'title', 'similarity']].head(num_recommendations)\n",
    "recommended = recommend_songs(user_history, available_songs)\n",
    "print(recommended)"
   ]
  },
  {
   "cell_type": "code",
   "execution_count": null,
   "metadata": {},
   "outputs": [],
   "source": []
  }
 ],
 "metadata": {
  "kernelspec": {
   "display_name": "Python 3",
   "language": "python",
   "name": "python3"
  },
  "language_info": {
   "codemirror_mode": {
    "name": "ipython",
    "version": 3
   },
   "file_extension": ".py",
   "mimetype": "text/x-python",
   "name": "python",
   "nbconvert_exporter": "python",
   "pygments_lexer": "ipython3",
   "version": "3.12.4"
  }
 },
 "nbformat": 4,
 "nbformat_minor": 2
}
