{
 "cells": [
  {
   "cell_type": "code",
   "execution_count": null,
   "metadata": {},
   "outputs": [
    {
     "name": "stdout",
     "output_type": "stream",
     "text": [
      "\n",
      "- Array Operation Menu -\n",
      "1. Add an element\n",
      "2. Remove an element\n",
      "3. Display the array\n",
      "4. Exit\n"
     ]
    }
   ],
   "source": [
    "def my_array():\n",
    "    print(\"\\n- Array Operation Menu -\")\n",
    "    print(\"1. Add an element\")\n",
    "    print(\"2. Remove an element\")\n",
    "    print(\"3. Display the array\")\n",
    "    print(\"4. Exit\")\n",
    "\n",
    "def add_element(array):\n",
    "    element = input(\"Enter the element to add:\")\n",
    "    array.append(element)\n",
    "    print(\"'{element}' has been added to the array.\")\n",
    "\n",
    "def remove_element(array):\n",
    "    element = input(\"Enter the element to remove\")\n",
    "    if element in array:\n",
    "        array.remove(element)\n",
    "        print(\"'{element}' has been removed from the array\")\n",
    "    else:\n",
    "        print(\"'{element}' is not in the array \")\n",
    "\n",
    "def display_array(array):\n",
    "    if array:\n",
    "        print(\"the content of the array is:\", array)\n",
    "    else:\n",
    "        print(\"the array is empty\")\n",
    "\n",
    "def main():\n",
    "    my_array = []\n",
    "    while True:\n",
    "        my_array()\n",
    "        choice = input(\"Enter your choice (1-4): \")\n",
    "        if choice == '1':\n",
    "            add_element(my_array)\n",
    "        elif choice == '2':\n",
    "            remove_element(my_array)\n",
    "        elif choice == '3':\n",
    "            display_array(my_array)\n",
    "        elif choice == '4':\n",
    "            print(\"Ending the program, It was a pleasure!\")\n",
    "            break\n",
    "        else:\n",
    "            print(\"invalid choice. please select a valid option.\")\n",
    "\n",
    "if __name__ == \"__main__\":\n",
    "    my_array()\n"
   ]
  },
  {
   "cell_type": "code",
   "execution_count": null,
   "metadata": {},
   "outputs": [],
   "source": []
  }
 ],
 "metadata": {
  "kernelspec": {
   "display_name": "Python 3",
   "language": "python",
   "name": "python3"
  },
  "language_info": {
   "codemirror_mode": {
    "name": "ipython",
    "version": 3
   },
   "file_extension": ".py",
   "mimetype": "text/x-python",
   "name": "python",
   "nbconvert_exporter": "python",
   "pygments_lexer": "ipython3",
   "version": "3.12.4"
  }
 },
 "nbformat": 4,
 "nbformat_minor": 2
}
