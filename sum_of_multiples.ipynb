{
 "cells": [
  {
   "cell_type": "code",
   "execution_count": 1,
   "metadata": {},
   "outputs": [
    {
     "name": "stdout",
     "output_type": "stream",
     "text": [
      "Sum of Multiples Calculator\n",
      "\n",
      "Multiples of 7, up to 50: [7, 14, 21, 28, 35, 42, 49]\n",
      "sum of these multiples: 196\n"
     ]
    }
   ],
   "source": [
    "def calculating_sum_of_multiples(number, limit):\n",
    "    multiples = [i for i in range(number, limit + 1, number)]\n",
    "    total_sum = sum(multiples)\n",
    "    return multiples, total_sum\n",
    "\n",
    "def main():\n",
    "    print(\"Sum of Multiples Calculator\")\n",
    "    try:\n",
    "        number = int(input(\"Enter the number to find it's multipls: \"))\n",
    "        limit = int(input(\"Enter the limit you want: \"))\n",
    "\n",
    "        if number <= 0 or limit <= 0:\n",
    "            print(\"Both the number and limit must be positive integers. \")\n",
    "            return\n",
    "        multiples, total_sum = calculating_sum_of_multiples(number, limit)\n",
    "\n",
    "        print(f\"\\nMultiples of {number}, up to {limit}: {multiples}\")\n",
    "        print(f\"sum of these multiples: {total_sum}\")\n",
    "    except ValueError:\n",
    "        print(\"Please Enter valid integers for the number and limit.\")\n",
    "\n",
    "if __name__==\"__main__\":\n",
    "    main()"
   ]
  },
  {
   "cell_type": "code",
   "execution_count": null,
   "metadata": {},
   "outputs": [],
   "source": []
  }
 ],
 "metadata": {
  "kernelspec": {
   "display_name": "Python 3",
   "language": "python",
   "name": "python3"
  },
  "language_info": {
   "codemirror_mode": {
    "name": "ipython",
    "version": 3
   },
   "file_extension": ".py",
   "mimetype": "text/x-python",
   "name": "python",
   "nbconvert_exporter": "python",
   "pygments_lexer": "ipython3",
   "version": "3.12.4"
  }
 },
 "nbformat": 4,
 "nbformat_minor": 2
}
